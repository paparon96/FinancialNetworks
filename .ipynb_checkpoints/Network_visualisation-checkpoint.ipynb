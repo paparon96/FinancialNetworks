{
 "cells": [
  {
   "cell_type": "markdown",
   "metadata": {},
   "source": [
    "# Import packages"
   ]
  },
  {
   "cell_type": "code",
   "execution_count": 1,
   "metadata": {},
   "outputs": [
    {
     "name": "stderr",
     "output_type": "stream",
     "text": [
      "========================================\n",
      "circlize version 0.4.10\n",
      "CRAN page: https://cran.r-project.org/package=circlize\n",
      "Github page: https://github.com/jokergoo/circlize\n",
      "Documentation: https://jokergoo.github.io/circlize_book/book/\n",
      "\n",
      "If you use it in published research, please cite:\n",
      "Gu, Z. circlize implements and enhances circular visualization\n",
      "  in R. Bioinformatics 2014.\n",
      "\n",
      "This message can be suppressed by:\n",
      "  suppressPackageStartupMessages(library(circlize))\n",
      "========================================\n",
      "\n",
      "\n"
     ]
    }
   ],
   "source": [
    "library(circlize)"
   ]
  },
  {
   "cell_type": "markdown",
   "metadata": {},
   "source": [
    "# Define custom functions"
   ]
  },
  {
   "cell_type": "code",
   "execution_count": 2,
   "metadata": {},
   "outputs": [],
   "source": [
    "chord_diag_viz <- function(method,type,date,show,save){\n",
    "    \n",
    "    # Import data\n",
    "    final_date_transformed = paste0(substr(date,1,4),\"_\",\n",
    "                                substr(date,6,7),\"_\",\n",
    "                                substr(date,9,10))\n",
    "    filename = paste0(\"./Data/Estimated_networks/\",method,\"_\",type,\"_\",final_date_transformed,\".csv\")\n",
    "    \n",
    "    \n",
    "    temp = read.csv(filename, sep=\",\", row.names=1)\n",
    "    \n",
    "    # Transform to matrix format\n",
    "    network_matrix = as.matrix(temp)\n",
    "    \n",
    "    if (method==\"DY\"){\n",
    "        \n",
    "        n = dim(network_matrix)[1]\n",
    "        d = dim(network_matrix)[2]\n",
    "        \n",
    "        network_matrix = network_matrix[1:n-1,1:d-1]\n",
    "    }\n",
    "    \n",
    "    #print(network_matrix)\n",
    "    \n",
    "    \n",
    "    if (grepl(\"combined_factors\", type, fixed = TRUE)){\n",
    "        \n",
    "        varnames = c(\"MS\",\"JPM\",\"BAC\",\"C\",\"WFC\",\"GS\",\"USB\",\"TD\",\"BK\",\"TFC\",\"Mkt.RF\",\"SMB\",\"HML\",\"RMW\",\"CMA\",\"RF\")\n",
    "        \n",
    "    }else{\n",
    "        varnames = c(\"MS\",\"JPM\",\"BAC\",\"C\",\"WFC\",\"GS\",\"USB\",\"TD\",\"BK\",\"TFC\")\n",
    "    }\n",
    "    \n",
    "    \n",
    "\n",
    "\n",
    "\n",
    "# Create vectors for network visualisation\n",
    "n = length(varnames)*(length(varnames)-1)\n",
    "orig = vector(mode=\"character\", length=n)\n",
    "dest = vector(mode=\"character\", length=n)\n",
    "weight <- rep(0, n)\n",
    "\n",
    "# Fill vectors with the data\n",
    "k = 0\n",
    "for (i in 1:length(varnames)){\n",
    "  for (j in 1:length(varnames)){\n",
    "      if (i != j){\n",
    "        orig[k] = varnames[i]\n",
    "        dest[k] = varnames[j]\n",
    "        weight[k] = network_matrix[i,j]\n",
    "        \n",
    "        k = k + 1\n",
    "        \n",
    "      }\n",
    "  \n",
    "  }\n",
    "}\n",
    "\n",
    "# Create dataframe from vectors\n",
    "df<- data.frame(orig, dest,  \n",
    "                      weight) \n",
    "\n",
    "\n",
    "# Visualisation\n",
    "rownames(network_matrix) = varnames\n",
    "colnames(network_matrix) = varnames\n",
    "\n",
    "diag(network_matrix) <- 0\n",
    "\n",
    "\n",
    "if (show){\n",
    "    \n",
    "    circos.clear()\n",
    "#title = \"./Figures/NE_method_network_chord_diagram.pdf\"\n",
    "#pdf(title) \n",
    "\n",
    "chordDiagram(network_matrix, directional = 1, \n",
    "             direction.type = c(\"diffHeight\", \"arrows\"),\n",
    "             link.arr.type = \"big.arrow\")\n",
    "\n",
    "\n",
    "#dev.off()\n",
    "}\n",
    "\n",
    "if (save){\n",
    "    \n",
    "    circos.clear()\n",
    "    title = paste0(\"./Figures/Network_chord_diagram_\",\n",
    "                   method,\"_\",type,\"_\",final_date_transformed,\".pdf\")\n",
    "#title = \"./Figures/NE_method_network_chord_diagram.pdf\"\n",
    "pdf(title) \n",
    "\n",
    "chordDiagram(network_matrix, directional = 1, \n",
    "             direction.type = c(\"diffHeight\", \"arrows\"),\n",
    "             link.arr.type = \"big.arrow\")\n",
    "\n",
    "\n",
    "dev.off()\n",
    "}\n",
    "    \n",
    "    \n",
    "}"
   ]
  },
  {
   "cell_type": "markdown",
   "metadata": {},
   "source": [
    "# Visualisations"
   ]
  },
  {
   "cell_type": "markdown",
   "metadata": {},
   "source": [
    "## Chord diagram visualisation"
   ]
  },
  {
   "cell_type": "code",
   "execution_count": 3,
   "metadata": {},
   "outputs": [],
   "source": [
    "methods = c('NS','SPACE','GLASSO','DY','DAG')\n",
    "types = c('return','return_factor_resid',\n",
    "        'volatility','volatility_factor_resid')\n",
    "dates = c('2020-03-05','2020-06-30') #,'2020-06-30') # DY later date is still missing!"
   ]
  },
  {
   "cell_type": "code",
   "execution_count": 4,
   "metadata": {},
   "outputs": [],
   "source": [
    "for (i in 1:length(methods)){\n",
    "    \n",
    "    for (j in 1:length(types)){\n",
    "        \n",
    "        for (k in 1:length(dates)){\n",
    "        \n",
    "        # Run visualisation\n",
    "        chord_diag_viz(method=methods[i],type=types[j],date=dates[k],\n",
    "               show=FALSE,save=TRUE)\n",
    "    \n",
    "}\n",
    "    \n",
    "}\n",
    "    \n",
    "}"
   ]
  },
  {
   "cell_type": "markdown",
   "metadata": {},
   "source": [
    "# Other visualisations"
   ]
  },
  {
   "cell_type": "code",
   "execution_count": null,
   "metadata": {},
   "outputs": [],
   "source": []
  },
  {
   "cell_type": "code",
   "execution_count": null,
   "metadata": {},
   "outputs": [],
   "source": []
  },
  {
   "cell_type": "markdown",
   "metadata": {},
   "source": [
    "# Support"
   ]
  },
  {
   "cell_type": "code",
   "execution_count": 15,
   "metadata": {},
   "outputs": [
    {
     "data": {
      "text/html": [
       "<strong>pdf:</strong> 2"
      ],
      "text/latex": [
       "\\textbf{pdf:} 2"
      ],
      "text/markdown": [
       "**pdf:** 2"
      ],
      "text/plain": [
       "pdf \n",
       "  2 "
      ]
     },
     "metadata": {},
     "output_type": "display_data"
    }
   ],
   "source": [
    "chord_diag_viz(method=\"NS\",type=\"return_factor_resid\",date=\"2020-06-30\",\n",
    "               show=FALSE,save=TRUE)"
   ]
  },
  {
   "cell_type": "code",
   "execution_count": 35,
   "metadata": {},
   "outputs": [
    {
     "data": {
      "text/html": [
       "<strong>pdf:</strong> 2"
      ],
      "text/latex": [
       "\\textbf{pdf:} 2"
      ],
      "text/markdown": [
       "**pdf:** 2"
      ],
      "text/plain": [
       "pdf \n",
       "  2 "
      ]
     },
     "metadata": {},
     "output_type": "display_data"
    }
   ],
   "source": [
    "chord_diag_viz(method=\"DY\",type=\"volatility\",date=\"2020-03-05\",\n",
    "               show=FALSE,save=TRUE)"
   ]
  },
  {
   "cell_type": "code",
   "execution_count": null,
   "metadata": {},
   "outputs": [],
   "source": []
  }
 ],
 "metadata": {
  "kernelspec": {
   "display_name": "R",
   "language": "R",
   "name": "ir"
  },
  "language_info": {
   "codemirror_mode": "r",
   "file_extension": ".r",
   "mimetype": "text/x-r-source",
   "name": "R",
   "pygments_lexer": "r",
   "version": "3.5.1"
  },
  "toc": {
   "base_numbering": 1,
   "nav_menu": {},
   "number_sections": true,
   "sideBar": true,
   "skip_h1_title": false,
   "title_cell": "Table of Contents",
   "title_sidebar": "Contents",
   "toc_cell": false,
   "toc_position": {},
   "toc_section_display": true,
   "toc_window_display": true
  }
 },
 "nbformat": 4,
 "nbformat_minor": 2
}
