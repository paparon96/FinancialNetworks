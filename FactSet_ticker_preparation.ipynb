{
 "cells": [
  {
   "cell_type": "markdown",
   "metadata": {},
   "source": [
    "# Import packages"
   ]
  },
  {
   "cell_type": "code",
   "execution_count": 1,
   "metadata": {},
   "outputs": [],
   "source": [
    "import pandas as pd\n",
    "import numpy as np"
   ]
  },
  {
   "cell_type": "markdown",
   "metadata": {},
   "source": [
    "# Import raw data"
   ]
  },
  {
   "cell_type": "code",
   "execution_count": 5,
   "metadata": {},
   "outputs": [
    {
     "name": "stdout",
     "output_type": "stream",
     "text": [
      "             Bank Name Country Bank Code Reuters Ticker Yahoo Finance Ticker\n",
      "0  JPMorgan Chase & Co      US    jpm.us            jpm                  JPM\n",
      "1      Bank of America      US    bac.us            bac                  BAC\n",
      "2            Citigroup      US      c.us              c                    C\n",
      "3          Wells Fargo      US    wfc.us            wfc                  WFC\n",
      "4  Goldman Sachs Group      US     gs.us             gs                   GS\n"
     ]
    }
   ],
   "source": [
    "var_metadata = pd.read_excel('./Data/Stock_prices/Bank_tickers.xlsx')\n",
    "\n",
    "print(var_metadata.head())"
   ]
  },
  {
   "cell_type": "markdown",
   "metadata": {},
   "source": [
    "# Data preprocessing"
   ]
  },
  {
   "cell_type": "code",
   "execution_count": 6,
   "metadata": {},
   "outputs": [],
   "source": [
    "tickers = list(var_metadata['Bank Code'])"
   ]
  },
  {
   "cell_type": "code",
   "execution_count": 7,
   "metadata": {},
   "outputs": [
    {
     "name": "stdout",
     "output_type": "stream",
     "text": [
      "['JPM-US', 'BAC-US', 'C-US', 'WFC-US', 'GS-US', 'MS-US', 'BK-US', 'USB-US', 'PNC-US', 'COF-US', 'STT-US', 'BBT-US', 'STI-US', 'AXP-US', 'FITB-US', 'RF-US', 'MTBH-JP', 'MZH-JP', 'SMTM-JP', 'RSNH-JP', 'NMRH-JP', 'SMTM-JP', 'FFG-JP', 'BOY-JP', 'CBB-JP', 'HKF-JP', 'SHZB-JP', 'YFG-JP', 'TD-CA', 'RY-CA', 'BNS-CA', 'BMO-CA', 'CM-CA', 'NA-CA', 'UCG-IT', 'ISP-IT', 'BMPS-IT', 'BP-IT', 'UNI-IT', 'MB-IT', 'NAB-AU', 'CBA-AU', 'ANZ-AU', 'WBC-AU', 'MQG-AU', 'CMB-CN', 'SHGP-CN', 'CMB-CN', 'PAB-CN', 'HXB-CN', 'HSBA-GB', 'BARC-GB', 'RBS-GB', 'LLOY-GB', 'STAN-GB', 'SAN-ES', 'BBVA-ES', 'SAB-ES', 'POP-ES', 'NDASEK-SE', 'SHBA-SE', 'SEBA-SE', 'SWEDA-SE', 'BNP-FR', 'ACA-FR', 'GLE-FR', 'WRFH-KR', 'SHF-KR', 'IBK-KR', 'UBSN-CH', 'CSGN-CH', 'KBC-BE', 'DEXB-BE', 'ITUB4-BR', 'BBDC-BR', 'DBK-DE', 'CBK-DE', 'BIR-IE', 'AIB-IE', 'SBIN-IN', 'BOB-IN', 'MAY-MY', 'CIMB-MY', 'BCP-PR', 'BES-PR', 'D05-SG', 'UOB-SG', 'EBS-AT', 'DAN-DK', 'POH-FI', 'ETE-GR', 'INGA-NL', 'DNB-NO', 'SBER-RU', 'ISCTR-TR', 'SBK-ZA']\n"
     ]
    }
   ],
   "source": [
    "tickers = [ ticker.replace('.', '-').upper() for ticker in tickers]\n",
    "\n",
    "print(tickers)"
   ]
  },
  {
   "cell_type": "code",
   "execution_count": 8,
   "metadata": {},
   "outputs": [
    {
     "data": {
      "text/plain": [
       "96"
      ]
     },
     "execution_count": 8,
     "metadata": {},
     "output_type": "execute_result"
    }
   ],
   "source": [
    "len(tickers)"
   ]
  },
  {
   "cell_type": "code",
   "execution_count": 9,
   "metadata": {},
   "outputs": [],
   "source": [
    "# Initialize strings\n",
    "first_string = ''\n",
    "second_string = ''\n",
    "\n",
    "\n",
    "# Parameters\n",
    "max_ticker = 70\n",
    "\n",
    "\n",
    "\n",
    "for i in range(0,len(tickers)):\n",
    "    \n",
    "    if i < max_ticker:\n",
    "        \n",
    "        first_string += tickers[i] + ';'\n",
    "        \n",
    "    else:\n",
    "        \n",
    "        second_string += tickers[i] + ';' "
   ]
  },
  {
   "cell_type": "code",
   "execution_count": 10,
   "metadata": {},
   "outputs": [
    {
     "name": "stdout",
     "output_type": "stream",
     "text": [
      "JPM-US;BAC-US;C-US;WFC-US;GS-US;MS-US;BK-US;USB-US;PNC-US;COF-US;STT-US;BBT-US;STI-US;AXP-US;FITB-US;RF-US;MTBH-JP;MZH-JP;SMTM-JP;RSNH-JP;NMRH-JP;SMTM-JP;FFG-JP;BOY-JP;CBB-JP;HKF-JP;SHZB-JP;YFG-JP;TD-CA;RY-CA;BNS-CA;BMO-CA;CM-CA;NA-CA;UCG-IT;ISP-IT;BMPS-IT;BP-IT;UNI-IT;MB-IT;NAB-AU;CBA-AU;ANZ-AU;WBC-AU;MQG-AU;CMB-CN;SHGP-CN;CMB-CN;PAB-CN;HXB-CN;HSBA-GB;BARC-GB;RBS-GB;LLOY-GB;STAN-GB;SAN-ES;BBVA-ES;SAB-ES;POP-ES;NDASEK-SE;SHBA-SE;SEBA-SE;SWEDA-SE;BNP-FR;ACA-FR;GLE-FR;WRFH-KR;SHF-KR;IBK-KR;UBSN-CH;\n"
     ]
    }
   ],
   "source": [
    "print(first_string)"
   ]
  },
  {
   "cell_type": "code",
   "execution_count": 11,
   "metadata": {},
   "outputs": [
    {
     "name": "stdout",
     "output_type": "stream",
     "text": [
      "CSGN-CH;KBC-BE;DEXB-BE;ITUB4-BR;BBDC-BR;DBK-DE;CBK-DE;BIR-IE;AIB-IE;SBIN-IN;BOB-IN;MAY-MY;CIMB-MY;BCP-PR;BES-PR;D05-SG;UOB-SG;EBS-AT;DAN-DK;POH-FI;ETE-GR;INGA-NL;DNB-NO;SBER-RU;ISCTR-TR;SBK-ZA;\n"
     ]
    }
   ],
   "source": [
    "print(second_string)"
   ]
  },
  {
   "cell_type": "code",
   "execution_count": null,
   "metadata": {},
   "outputs": [],
   "source": []
  }
 ],
 "metadata": {
  "kernelspec": {
   "display_name": "Python 3",
   "language": "python",
   "name": "python3"
  },
  "language_info": {
   "codemirror_mode": {
    "name": "ipython",
    "version": 3
   },
   "file_extension": ".py",
   "mimetype": "text/x-python",
   "name": "python",
   "nbconvert_exporter": "python",
   "pygments_lexer": "ipython3",
   "version": "3.7.4"
  },
  "toc": {
   "base_numbering": 1,
   "nav_menu": {},
   "number_sections": true,
   "sideBar": true,
   "skip_h1_title": false,
   "title_cell": "Table of Contents",
   "title_sidebar": "Contents",
   "toc_cell": false,
   "toc_position": {},
   "toc_section_display": true,
   "toc_window_display": false
  }
 },
 "nbformat": 4,
 "nbformat_minor": 2
}
