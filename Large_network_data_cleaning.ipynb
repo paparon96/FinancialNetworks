{
 "cells": [
  {
   "cell_type": "markdown",
   "metadata": {},
   "source": [
    "# Import packages"
   ]
  },
  {
   "cell_type": "code",
   "execution_count": 1,
   "metadata": {},
   "outputs": [],
   "source": [
    "import pandas as pd\n",
    "import numpy as np\n"
   ]
  },
  {
   "cell_type": "markdown",
   "metadata": {},
   "source": [
    "# Custom function"
   ]
  },
  {
   "cell_type": "markdown",
   "metadata": {},
   "source": [
    "# Import data"
   ]
  },
  {
   "cell_type": "code",
   "execution_count": 131,
   "metadata": {},
   "outputs": [
    {
     "name": "stdout",
     "output_type": "stream",
     "text": [
      "         Date        JPM        BAC          C        WFC          GS  \\\n",
      "0  2010-01-04  32.323208  13.731325  30.160183  20.225887  147.118881   \n",
      "1  2010-01-05  32.949322  14.177655  31.313356  20.781136  149.719818   \n",
      "2  2010-01-06  33.130344  14.343938  32.289139  20.810753  148.121780   \n",
      "3  2010-01-07  33.786621  14.816527  32.377846  21.565891  151.020355   \n",
      "4  2010-01-08  33.703640  14.685253  31.845606  21.365999  148.164291   \n",
      "\n",
      "          MS         BK        USB        PNC  ...     D05.SI     U11.SI  \\\n",
      "0  25.570005  22.653957  17.632248  41.086712  ...  10.017633  13.692189   \n",
      "1  26.504782  22.894192  18.079212  41.501339  ...  10.148582  13.664332   \n",
      "2  26.843952  22.549856  18.271877  41.501339  ...  10.148582  13.859340   \n",
      "3  27.232754  23.502777  18.626371  43.751095  ...  10.030727  13.859340   \n",
      "4  26.678505  23.646927  18.657194  43.866280  ...  10.070014  13.873263   \n",
      "\n",
      "   EBS.VI  DANSKE.CO        ETE.AT   INGA.AS     DNB.OL  SBER.ME  ISCTR.IS  \\\n",
      "0     NaN  78.602135  25258.900391  5.234131  41.739815      NaN       NaN   \n",
      "1     NaN  81.200203  26949.400391  5.335646  41.188480      NaN       NaN   \n",
      "2     NaN  82.174561           NaN  5.344286  41.220909      NaN       NaN   \n",
      "3     NaN  84.773346  27382.500000  5.471720  41.318207      NaN       NaN   \n",
      "4     NaN  86.072029  28108.900391  5.594112  43.069534      NaN       NaN   \n",
      "\n",
      "        SBK.JO  \n",
      "0  6110.417969  \n",
      "1  6257.911133  \n",
      "2  6248.880371  \n",
      "3  6200.720215  \n",
      "4  6200.117676  \n",
      "\n",
      "[5 rows x 87 columns]\n",
      "(2863, 87)\n"
     ]
    }
   ],
   "source": [
    "largenet_df = pd.read_csv('./Data/Large_network/Demirer_stock_prices.csv')\n",
    "\n",
    "print(largenet_df.head())\n",
    "\n",
    "print(largenet_df.shape)"
   ]
  },
  {
   "cell_type": "markdown",
   "metadata": {},
   "source": [
    "# Data preprocessing"
   ]
  },
  {
   "cell_type": "markdown",
   "metadata": {},
   "source": [
    "## Parameters"
   ]
  },
  {
   "cell_type": "code",
   "execution_count": 144,
   "metadata": {},
   "outputs": [],
   "source": [
    "start_date = '2012-01-01'\n",
    "nan_drop_thresh = 0.9\n",
    "max_gap_allowed = 3"
   ]
  },
  {
   "cell_type": "markdown",
   "metadata": {},
   "source": [
    "## Filter by Date"
   ]
  },
  {
   "cell_type": "code",
   "execution_count": 134,
   "metadata": {},
   "outputs": [
    {
     "name": "stdout",
     "output_type": "stream",
     "text": [
      "(2343, 87)\n"
     ]
    }
   ],
   "source": [
    "largenet_df = largenet_df[largenet_df.Date > start_date]\n",
    "\n",
    "print(largenet_df.shape)"
   ]
  },
  {
   "cell_type": "markdown",
   "metadata": {},
   "source": [
    "## Set Date as index"
   ]
  },
  {
   "cell_type": "code",
   "execution_count": 136,
   "metadata": {},
   "outputs": [
    {
     "name": "stdout",
     "output_type": "stream",
     "text": [
      "                  JPM       BAC          C        WFC         GS         MS  \\\n",
      "Date                                                                          \n",
      "2012-01-02        NaN       NaN        NaN        NaN        NaN        NaN   \n",
      "2012-01-03  27.060522  5.115416  25.151731  21.559872  82.778442  13.519601   \n",
      "2012-01-04  27.231941  5.124233  25.009682  21.658457  82.240227  13.401896   \n",
      "2012-01-05  27.800735  5.565219  25.311543  22.007292  82.101357  13.687759   \n",
      "2012-01-06  27.551395  5.450563  25.347055  21.946625  81.094398  13.368262   \n",
      "\n",
      "                   BK        USB        PNC        COF  ...    D05.SI  \\\n",
      "Date                                                    ...             \n",
      "2012-01-02        NaN        NaN        NaN        NaN  ...       NaN   \n",
      "2012-01-03  16.952410  21.852377  46.564701  37.324905  ...  8.118500   \n",
      "2012-01-04  17.010269  21.844450  46.714569  37.964756  ...  8.229521   \n",
      "2012-01-05  17.150780  22.169308  47.179993  38.544888  ...  8.187888   \n",
      "2012-01-06  16.902815  21.987070  47.258865  38.527828  ...  8.229521   \n",
      "\n",
      "               U11.SI  EBS.VI  DANSKE.CO  ETE.AT   INGA.AS     DNB.OL  \\\n",
      "Date                                                                    \n",
      "2012-01-02        NaN     NaN  53.562046  2370.0  4.109549  40.795673   \n",
      "2012-01-03  11.537395     NaN  54.404442  2190.0  4.162107  40.311249   \n",
      "2012-01-04  11.663527     NaN  52.930256  2220.0  4.103069  39.757614   \n",
      "2012-01-05  11.596751     NaN  52.649452  2160.0  3.959797  40.034431   \n",
      "2012-01-06  11.433520     NaN  52.052765     NaN  3.927399  39.896027   \n",
      "\n",
      "            SBER.ME  ISCTR.IS       SBK.JO  \n",
      "Date                                        \n",
      "2012-01-02      NaN  2.677510  6394.367188  \n",
      "2012-01-03      NaN  2.845856  6501.858398  \n",
      "2012-01-04      NaN  2.717593  6540.061523  \n",
      "2012-01-05      NaN  2.693543  6468.833008  \n",
      "2012-01-06      NaN  2.645444  6519.987793  \n",
      "\n",
      "[5 rows x 86 columns]\n"
     ]
    }
   ],
   "source": [
    "largenet_df = largenet_df.set_index('Date')\n",
    "\n",
    "print(largenet_df.head())"
   ]
  },
  {
   "cell_type": "markdown",
   "metadata": {},
   "source": [
    "## Log return"
   ]
  },
  {
   "cell_type": "code",
   "execution_count": 137,
   "metadata": {},
   "outputs": [],
   "source": [
    "cols = largenet_df.columns\n",
    "\n",
    "for col in cols:\n",
    "    largenet_df[col] = np.log(largenet_df[col]) - np.log(largenet_df[col].shift(1))"
   ]
  },
  {
   "cell_type": "markdown",
   "metadata": {},
   "source": [
    "## Drop columns with all NaN-s"
   ]
  },
  {
   "cell_type": "code",
   "execution_count": 138,
   "metadata": {},
   "outputs": [
    {
     "name": "stdout",
     "output_type": "stream",
     "text": [
      "(2343, 86)\n",
      "(2342, 86)\n"
     ]
    }
   ],
   "source": [
    "print(largenet_df.shape)\n",
    "largenet_df = largenet_df.dropna(axis=1, how='all')\n",
    "largenet_df = largenet_df.dropna(axis=0, how='all')\n",
    "print(largenet_df.shape)"
   ]
  },
  {
   "cell_type": "code",
   "execution_count": 139,
   "metadata": {},
   "outputs": [],
   "source": [
    "thresh = nan_drop_thresh * len(largenet_df)\n",
    "largenet_df.dropna(thresh = thresh, axis = 1, inplace = True)"
   ]
  },
  {
   "cell_type": "code",
   "execution_count": 140,
   "metadata": {},
   "outputs": [],
   "source": [
    "largenet_df = largenet_df.replace({np.nan: None})"
   ]
  },
  {
   "cell_type": "code",
   "execution_count": 141,
   "metadata": {},
   "outputs": [
    {
     "name": "stdout",
     "output_type": "stream",
     "text": [
      "                   JPM         BAC           C         WFC          GS  \\\n",
      "Date                                                                     \n",
      "2012-01-03        None        None        None        None        None   \n",
      "2012-01-04  0.00631467  0.00172213 -0.00566369  0.00456219  -0.0065231   \n",
      "2012-01-05   0.0206719   0.0825555   0.0119975   0.0159779 -0.00169002   \n",
      "2012-01-06 -0.00900929  -0.0208174  0.00140201 -0.00276048  -0.0123407   \n",
      "2012-01-09  -0.0016978   0.0144579   0.0183937   0.0123632    0.013503   \n",
      "\n",
      "                    MS          BK          USB         PNC          COF  ...  \\\n",
      "Date                                                                      ...   \n",
      "2012-01-03        None        None         None        None         None  ...   \n",
      "2012-01-04 -0.00874437  0.00340721 -0.000362818  0.00321332    0.0169975  ...   \n",
      "2012-01-05   0.0211057  0.00822643    0.0147619  0.00991384    0.0151652  ...   \n",
      "2012-01-06  -0.0236185  -0.0145635  -0.00825426  0.00167033 -0.000442699  ...   \n",
      "2012-01-09   0.0186923   0.0208086    0.0175038  0.00814554    0.0238499  ...   \n",
      "\n",
      "              BIRG.IR     BCP.LS      D05.SI      U11.SI   DANSKE.CO  \\\n",
      "Date                                                                   \n",
      "2012-01-03       None  0.0477914        None        None   0.0156051   \n",
      "2012-01-04 -0.0238108  -0.127842   0.0135824   0.0108731  -0.0274707   \n",
      "2012-01-05          0 -0.0870018 -0.00507182 -0.00574165 -0.00531929   \n",
      "2012-01-06 -0.0121212   0.116862  0.00507182  -0.0141756  -0.0113979   \n",
      "2012-01-09          0  0.0361098 -0.00846759  -0.0163562  0.00470897   \n",
      "\n",
      "               INGA.AS      DNB.OL SBER.ME    ISCTR.IS      SBK.JO  \n",
      "Date                                                                \n",
      "2012-01-03   0.0127081  -0.0119455    None   0.0609766   0.0166706  \n",
      "2012-01-04  -0.0142862  -0.0138292    None  -0.0461173  0.00585853  \n",
      "2012-01-05  -0.0355425  0.00693849    None -0.00888913  -0.0109509  \n",
      "2012-01-06 -0.00821539 -0.00346311    None  -0.0180185  0.00787678  \n",
      "2012-01-09  0.00639546  -0.0026053    None  -0.0307717 -0.00687631  \n",
      "\n",
      "[5 rows x 74 columns]\n",
      "(2342, 74)\n"
     ]
    }
   ],
   "source": [
    "print(largenet_df.head())\n",
    "\n",
    "print(largenet_df.shape)"
   ]
  },
  {
   "cell_type": "code",
   "execution_count": 142,
   "metadata": {},
   "outputs": [
    {
     "data": {
      "text/html": [
       "<div>\n",
       "<style scoped>\n",
       "    .dataframe tbody tr th:only-of-type {\n",
       "        vertical-align: middle;\n",
       "    }\n",
       "\n",
       "    .dataframe tbody tr th {\n",
       "        vertical-align: top;\n",
       "    }\n",
       "\n",
       "    .dataframe thead th {\n",
       "        text-align: right;\n",
       "    }\n",
       "</style>\n",
       "<table border=\"1\" class=\"dataframe\">\n",
       "  <thead>\n",
       "    <tr style=\"text-align: right;\">\n",
       "      <th></th>\n",
       "      <th>JPM</th>\n",
       "      <th>BAC</th>\n",
       "      <th>C</th>\n",
       "      <th>WFC</th>\n",
       "      <th>GS</th>\n",
       "      <th>MS</th>\n",
       "      <th>BK</th>\n",
       "      <th>USB</th>\n",
       "      <th>PNC</th>\n",
       "      <th>COF</th>\n",
       "      <th>...</th>\n",
       "      <th>BIRG.IR</th>\n",
       "      <th>BCP.LS</th>\n",
       "      <th>D05.SI</th>\n",
       "      <th>U11.SI</th>\n",
       "      <th>DANSKE.CO</th>\n",
       "      <th>INGA.AS</th>\n",
       "      <th>DNB.OL</th>\n",
       "      <th>SBER.ME</th>\n",
       "      <th>ISCTR.IS</th>\n",
       "      <th>SBK.JO</th>\n",
       "    </tr>\n",
       "  </thead>\n",
       "  <tbody>\n",
       "    <tr>\n",
       "      <td>count</td>\n",
       "      <td>2178.0</td>\n",
       "      <td>2178.0</td>\n",
       "      <td>2178.0</td>\n",
       "      <td>2178.0</td>\n",
       "      <td>2178.0</td>\n",
       "      <td>2178.0</td>\n",
       "      <td>2178.0</td>\n",
       "      <td>2178.0</td>\n",
       "      <td>2178.0</td>\n",
       "      <td>2178.0</td>\n",
       "      <td>...</td>\n",
       "      <td>2236.0</td>\n",
       "      <td>2259.0</td>\n",
       "      <td>2173.0</td>\n",
       "      <td>2173.0</td>\n",
       "      <td>2175.0</td>\n",
       "      <td>2258.0</td>\n",
       "      <td>2192.0</td>\n",
       "      <td>2175.0</td>\n",
       "      <td>2318.0</td>\n",
       "      <td>2276.0</td>\n",
       "    </tr>\n",
       "    <tr>\n",
       "      <td>unique</td>\n",
       "      <td>2162.0</td>\n",
       "      <td>2133.0</td>\n",
       "      <td>2169.0</td>\n",
       "      <td>2156.0</td>\n",
       "      <td>2176.0</td>\n",
       "      <td>2161.0</td>\n",
       "      <td>2159.0</td>\n",
       "      <td>2153.0</td>\n",
       "      <td>2164.0</td>\n",
       "      <td>2169.0</td>\n",
       "      <td>...</td>\n",
       "      <td>1940.0</td>\n",
       "      <td>2046.0</td>\n",
       "      <td>2086.0</td>\n",
       "      <td>2102.0</td>\n",
       "      <td>2103.0</td>\n",
       "      <td>2245.0</td>\n",
       "      <td>2132.0</td>\n",
       "      <td>2155.0</td>\n",
       "      <td>2076.0</td>\n",
       "      <td>2204.0</td>\n",
       "    </tr>\n",
       "    <tr>\n",
       "      <td>top</td>\n",
       "      <td>0.0</td>\n",
       "      <td>0.0</td>\n",
       "      <td>0.0</td>\n",
       "      <td>0.0</td>\n",
       "      <td>0.0</td>\n",
       "      <td>0.0</td>\n",
       "      <td>0.0</td>\n",
       "      <td>0.0</td>\n",
       "      <td>0.0</td>\n",
       "      <td>0.0</td>\n",
       "      <td>...</td>\n",
       "      <td>0.0</td>\n",
       "      <td>0.0</td>\n",
       "      <td>0.0</td>\n",
       "      <td>0.0</td>\n",
       "      <td>0.0</td>\n",
       "      <td>0.0</td>\n",
       "      <td>0.0</td>\n",
       "      <td>0.0</td>\n",
       "      <td>0.0</td>\n",
       "      <td>0.0</td>\n",
       "    </tr>\n",
       "    <tr>\n",
       "      <td>freq</td>\n",
       "      <td>16.0</td>\n",
       "      <td>44.0</td>\n",
       "      <td>10.0</td>\n",
       "      <td>22.0</td>\n",
       "      <td>3.0</td>\n",
       "      <td>16.0</td>\n",
       "      <td>20.0</td>\n",
       "      <td>23.0</td>\n",
       "      <td>14.0</td>\n",
       "      <td>9.0</td>\n",
       "      <td>...</td>\n",
       "      <td>159.0</td>\n",
       "      <td>117.0</td>\n",
       "      <td>76.0</td>\n",
       "      <td>63.0</td>\n",
       "      <td>58.0</td>\n",
       "      <td>14.0</td>\n",
       "      <td>52.0</td>\n",
       "      <td>20.0</td>\n",
       "      <td>171.0</td>\n",
       "      <td>73.0</td>\n",
       "    </tr>\n",
       "  </tbody>\n",
       "</table>\n",
       "<p>4 rows × 74 columns</p>\n",
       "</div>"
      ],
      "text/plain": [
       "           JPM     BAC       C     WFC      GS      MS      BK     USB  \\\n",
       "count   2178.0  2178.0  2178.0  2178.0  2178.0  2178.0  2178.0  2178.0   \n",
       "unique  2162.0  2133.0  2169.0  2156.0  2176.0  2161.0  2159.0  2153.0   \n",
       "top        0.0     0.0     0.0     0.0     0.0     0.0     0.0     0.0   \n",
       "freq      16.0    44.0    10.0    22.0     3.0    16.0    20.0    23.0   \n",
       "\n",
       "           PNC     COF  ...  BIRG.IR  BCP.LS  D05.SI  U11.SI  DANSKE.CO  \\\n",
       "count   2178.0  2178.0  ...   2236.0  2259.0  2173.0  2173.0     2175.0   \n",
       "unique  2164.0  2169.0  ...   1940.0  2046.0  2086.0  2102.0     2103.0   \n",
       "top        0.0     0.0  ...      0.0     0.0     0.0     0.0        0.0   \n",
       "freq      14.0     9.0  ...    159.0   117.0    76.0    63.0       58.0   \n",
       "\n",
       "        INGA.AS  DNB.OL  SBER.ME  ISCTR.IS  SBK.JO  \n",
       "count    2258.0  2192.0   2175.0    2318.0  2276.0  \n",
       "unique   2245.0  2132.0   2155.0    2076.0  2204.0  \n",
       "top         0.0     0.0      0.0       0.0     0.0  \n",
       "freq       14.0    52.0     20.0     171.0    73.0  \n",
       "\n",
       "[4 rows x 74 columns]"
      ]
     },
     "execution_count": 142,
     "metadata": {},
     "output_type": "execute_result"
    }
   ],
   "source": [
    "largenet_df.describe()"
   ]
  },
  {
   "cell_type": "code",
   "execution_count": 143,
   "metadata": {},
   "outputs": [
    {
     "name": "stdout",
     "output_type": "stream",
     "text": [
      "(2342, 74)\n"
     ]
    }
   ],
   "source": [
    "print(largenet_df.shape)"
   ]
  },
  {
   "cell_type": "markdown",
   "metadata": {},
   "source": [
    "## Gap analysis"
   ]
  },
  {
   "cell_type": "code",
   "execution_count": 147,
   "metadata": {},
   "outputs": [],
   "source": [
    "n,d = largenet_df.shape"
   ]
  },
  {
   "cell_type": "code",
   "execution_count": 150,
   "metadata": {},
   "outputs": [
    {
     "name": "stdout",
     "output_type": "stream",
     "text": [
      "8306.T\n",
      "8411.T\n",
      "8316.T\n",
      "8308.T\n",
      "8604.T\n",
      "8309.T\n",
      "8354.T\n",
      "8331.T\n",
      "8377.T\n",
      "8355.T\n",
      "NA.TO\n",
      "UCG.MI\n",
      "ISP.MI\n",
      "BMPS.MI\n",
      "UNI.MI\n",
      "MQG.AX\n",
      "600036.SS\n",
      "600000.SS\n",
      "600016.SS\n",
      "000001.SZ\n",
      "600015.SS\n",
      "HSBA.L\n",
      "BARC.L\n",
      "BBVA.MC\n",
      "SAB.MC\n",
      "NDA-SE.ST\n",
      "SHB-A.ST\n",
      "SEB-A.ST\n",
      "SWED-A.ST\n",
      "BNP.PA\n",
      "ACA.PA\n",
      "316140.KS\n",
      "055550.KS\n",
      "024110.KS\n",
      "UBSG.SW\n",
      "DBK.DE\n",
      "BIRG.IR\n",
      "SBIN.NS\n",
      "1155.KL\n"
     ]
    }
   ],
   "source": [
    "cols_to_drop = []\n",
    "\n",
    "for i in range(0,d):\n",
    "    ticker = cols[i]\n",
    "    current_gap = 0\n",
    "    for j in range(0,n):\n",
    "        if current_gap == 0:\n",
    "            if largenet_df.iloc[j,i] == None:\n",
    "                #print(\"Hello\")\n",
    "                current_gap += 1\n",
    "                \n",
    "        else:\n",
    "            if j > 1:\n",
    "                if (largenet_df.iloc[j,i] == None) & (largenet_df.iloc[j-1,i] == None):\n",
    "                    current_gap += 1\n",
    "\n",
    "                else:\n",
    "                    current_gap = 0\n",
    "                \n",
    "        if (current_gap > max_gap_allowed) & (ticker not in cols_to_drop):\n",
    "            #print(ticker)\n",
    "            cols_to_drop.append(ticker)"
   ]
  },
  {
   "cell_type": "code",
   "execution_count": 149,
   "metadata": {},
   "outputs": [
    {
     "name": "stdout",
     "output_type": "stream",
     "text": [
      "Number of tickers to drop: 39\n"
     ]
    }
   ],
   "source": [
    "print(\"Number of tickers to drop: {}\".format(len(cols_to_drop)))"
   ]
  },
  {
   "cell_type": "markdown",
   "metadata": {},
   "source": [
    "# Export final dataset"
   ]
  },
  {
   "cell_type": "code",
   "execution_count": null,
   "metadata": {},
   "outputs": [],
   "source": []
  }
 ],
 "metadata": {
  "kernelspec": {
   "display_name": "Python 3",
   "language": "python",
   "name": "python3"
  },
  "language_info": {
   "codemirror_mode": {
    "name": "ipython",
    "version": 3
   },
   "file_extension": ".py",
   "mimetype": "text/x-python",
   "name": "python",
   "nbconvert_exporter": "python",
   "pygments_lexer": "ipython3",
   "version": "3.7.4"
  },
  "toc": {
   "base_numbering": 1,
   "nav_menu": {},
   "number_sections": true,
   "sideBar": true,
   "skip_h1_title": false,
   "title_cell": "Table of Contents",
   "title_sidebar": "Contents",
   "toc_cell": false,
   "toc_position": {},
   "toc_section_display": true,
   "toc_window_display": true
  }
 },
 "nbformat": 4,
 "nbformat_minor": 2
}
