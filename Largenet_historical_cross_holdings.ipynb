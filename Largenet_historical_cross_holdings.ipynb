{
 "cells": [
  {
   "cell_type": "markdown",
   "metadata": {},
   "source": [
    "# Import packages"
   ]
  },
  {
   "cell_type": "code",
   "execution_count": 1,
   "metadata": {},
   "outputs": [],
   "source": [
    "import pandas as pd\n",
    "import numpy as np\n",
    "import matplotlib.pyplot as plt\n",
    "from matplotlib.colors import LogNorm\n",
    "import seaborn as sns\n",
    "\n",
    "# Utilities\n",
    "import pickle\n",
    "import copy\n",
    "import time\n",
    "\n",
    "from fuzzy_match import match\n",
    "from fuzzy_match import algorithims"
   ]
  },
  {
   "cell_type": "markdown",
   "metadata": {},
   "source": [
    "# Custom functions"
   ]
  },
  {
   "cell_type": "code",
   "execution_count": 2,
   "metadata": {},
   "outputs": [],
   "source": [
    "from utils import *"
   ]
  },
  {
   "cell_type": "markdown",
   "metadata": {},
   "source": [
    "# Import data"
   ]
  },
  {
   "cell_type": "markdown",
   "metadata": {},
   "source": [
    "## Cross-holdings"
   ]
  },
  {
   "cell_type": "code",
   "execution_count": 4,
   "metadata": {},
   "outputs": [],
   "source": [
    "# Parameters\n",
    "base_path = './Data/Large_network/Cross_holdings'\n",
    "dates = [\"2019-12-31\",\"2020-03-16\",\"2020-06-30\",\"2020-09-30\",\"2020-12-31\"]\n",
    "\n",
    "# Initialize dictionary of dataframes\n",
    "df_dict = {}\n",
    "\n",
    "for datep in dates:\n",
    "    date = datep.replace(\"-\",\"\")\n",
    "    temp_list = []\n",
    "    for batch in range(1,3):\n",
    "        final_path = base_path + \"/batch{}_\".format(batch) + date + \".xlsx\"\n",
    "        df = pd.read_excel(final_path,skiprows=4)\n",
    "        \n",
    "        if batch == 1:\n",
    "            df = df.iloc[:,:69]\n",
    "        else:\n",
    "            df = df.iloc[:,:27]\n",
    "            \n",
    "        \n",
    "        temp_list.append(df)\n",
    "        \n",
    "    df = temp_list[0].merge(temp_list[1], how = 'outer', left_on=\"Name\", right_on=\"Name\")\n",
    "\n",
    "    \n",
    "    df_dict[datep] = df"
   ]
  },
  {
   "cell_type": "code",
   "execution_count": 5,
   "metadata": {},
   "outputs": [],
   "source": [
    "# for key, val in df_dict.items():\n",
    "    \n",
    "#     print(key)\n",
    "#     print(val.head())\n",
    "#     print(val.shape)"
   ]
  },
  {
   "cell_type": "markdown",
   "metadata": {},
   "source": [
    "## Ticker names"
   ]
  },
  {
   "cell_type": "code",
   "execution_count": 6,
   "metadata": {},
   "outputs": [],
   "source": [
    "df = pd.read_csv('./Data/Large_network/largenet_log_ret.csv',sep=\",\", header=0)\n",
    "\n",
    "#print(df.head())"
   ]
  },
  {
   "cell_type": "code",
   "execution_count": 7,
   "metadata": {},
   "outputs": [],
   "source": [
    "var_names = list(df.columns)[1:]\n",
    "\n",
    "#print(var_names)"
   ]
  },
  {
   "cell_type": "code",
   "execution_count": 8,
   "metadata": {},
   "outputs": [],
   "source": [
    "var_metadata = pd.read_excel('./Data/Stock_prices/Bank_tickers.xlsx')\n",
    "\n",
    "#print(var_metadata.head())\n",
    "#print(var_metadata.shape)"
   ]
  },
  {
   "cell_type": "markdown",
   "metadata": {},
   "source": [
    "# Data preprocessing"
   ]
  },
  {
   "cell_type": "code",
   "execution_count": 9,
   "metadata": {},
   "outputs": [],
   "source": [
    "# Filter for those banks who are in the final list\n",
    "var_metadata = var_metadata[var_metadata['Yahoo Finance Ticker'].isin(var_names)]\n",
    "#print(var_metadata.shape)"
   ]
  },
  {
   "cell_type": "code",
   "execution_count": 10,
   "metadata": {},
   "outputs": [],
   "source": [
    "tickers = list(var_metadata['Bank Code'])\n",
    "\n",
    "names = list(var_metadata['Bank Name'])\n",
    "\n",
    "orig_tickers = copy.deepcopy(tickers)\n",
    "tickers = [ ticker.replace('.', '-').upper() for ticker in tickers]\n",
    "\n",
    "ticker_name_dict = {}\n",
    "\n",
    "for i in range(0,len(tickers)):\n",
    "    ticker_name_dict[tickers[i]] = names[i]\n",
    "    \n",
    "#print(ticker_name_dict)"
   ]
  },
  {
   "cell_type": "markdown",
   "metadata": {},
   "source": [
    "## Fuzzy matching"
   ]
  },
  {
   "cell_type": "code",
   "execution_count": 11,
   "metadata": {},
   "outputs": [],
   "source": [
    "# Parameters\n",
    "df_dict = df_dict\n",
    "ticker_name_dict = ticker_name_dict\n",
    "dates = ['2020-09-30'] # [\"2019-12-31\",\"2020-03-16\",\"2020-06-30\",\"2020-09-30\",\"2020-12-31\"]\n",
    "match_type = 'trigram'\n",
    "score_cutoff = 0.5\n",
    "n = len(ticker_name_dict.keys())\n",
    "\n",
    "# Initialize dictionary to store the final cross-holdings networks\n",
    "final_ch_networks = {}"
   ]
  },
  {
   "cell_type": "code",
   "execution_count": 12,
   "metadata": {},
   "outputs": [
    {
     "name": "stdout",
     "output_type": "stream",
     "text": [
      "2020-09-30\n",
      "Time elapsed: 1209.02 seconds\n"
     ]
    }
   ],
   "source": [
    "for date in dates:\n",
    "    \n",
    "    print(date)\n",
    "    \n",
    "    start = time.time()\n",
    "    \n",
    "    # Get dataframe of the current date\n",
    "    df = df_dict[date]\n",
    "\n",
    "    # Get potential holder name choices\n",
    "    choices = df.Name\n",
    "    \n",
    "    ch_array = np.zeros((n,n))\n",
    "\n",
    "    for i in range(0,n):\n",
    "        for j in range(0,n):\n",
    "\n",
    "            # Get current tickers\n",
    "            holder_ticker = tickers[i]\n",
    "            stock_ticker = tickers[j]\n",
    "\n",
    "            # Add score to the array\n",
    "            ch_array[i,j] = cross_holdings_computer(df, choices, ticker_name_dict, stock_ticker, holder_ticker,\n",
    "                                match_type,score_cutoff)\n",
    "            \n",
    "            \n",
    "    # Add current network to the dictionary\n",
    "    final_ch_networks[date] = ch_array\n",
    "\n",
    "    end = time.time()\n",
    "    runtime = round(end-start,2)\n",
    "    print(\"Time elapsed: {} seconds\".format(runtime))"
   ]
  },
  {
   "cell_type": "markdown",
   "metadata": {},
   "source": [
    "# Visualize cross-holdings networks"
   ]
  },
  {
   "cell_type": "code",
   "execution_count": 28,
   "metadata": {},
   "outputs": [
    {
     "data": {
      "image/png": "[encoded data removed]",
      "text/plain": [
       "<Figure size 1440x1440 with 2 Axes>"
      ]
     },
     "metadata": {},
     "output_type": "display_data"
    }
   ],
   "source": [
    "# Parameters\n",
    "figsize = 20\n",
    "offset = 0\n",
    "save_dpi = 120\n",
    "\n",
    "# Loop over cross-holdings networks at different time points\n",
    "for date, ch_array in final_ch_networks.items():\n",
    "    \n",
    "    plt.rcParams['figure.figsize'] = (figsize,figsize)\n",
    "\n",
    "    n, d = ch_array.shape\n",
    "\n",
    "    x_labels = [names[i] for i in range(0,d)]\n",
    "    x_places = [i+offset for i in range(0,d)]\n",
    "\n",
    "    y_labels = [names[i] for i in range(0,n)]\n",
    "    y_places = [i+offset for i in range(0,n)]\n",
    "\n",
    "    sns.set(font_scale=3)\n",
    "    ax = sns.heatmap(ch_array*100, linewidth=0.1, cmap=\"YlGnBu\",\n",
    "                cbar_kws={'format': '%.2f%%'}, xticklabels=False, yticklabels=False)\n",
    "    plt.xlabel(r\"$\\bf{Owner}$\",fontsize=15)\n",
    "    #plt.yticks(y_places,y_labels, rotation=0)\n",
    "    #plt.xticks(x_places,x_labels, rotation=90)\n",
    "    plt.ylabel(r\"$\\bf{Stock}$\",fontsize=15, rotation=0,labelpad=60)\n",
    "    plt.title(r\"$\\bf{Bank\\ cross-holdings}$\" + \"\\n\" + r\"$\\bf{(normalized,\\ FactSet\\ data)}$\",fontsize=15)\n",
    "    ax.tick_params(axis='both', which='major', labelsize=6)\n",
    "    ax.figure.axes[-1].set_ylabel(r'$\\bf{Ownership\\ share}$', size=15)\n",
    "    \n",
    "    cbar = ax.collections[0].colorbar\n",
    "    # here set the labelsize by 20\n",
    "    cbar.ax.tick_params(labelsize=15)\n",
    "    \n",
    "    #cbar.ax.tick_params(labelsize=10) \n",
    "\n",
    "\n",
    "    bottom, top = ax.get_ylim()\n",
    "    ax.set_ylim(bottom, top)\n",
    "\n",
    "    plt.tight_layout()\n",
    "    plt.savefig('./Figures/Large_network/CrossHoldings_{}.pdf'.format(date),dpi=save_dpi)\n",
    "    plt.show()"
   ]
  },
  {
   "cell_type": "markdown",
   "metadata": {},
   "source": [
    "# Export final cross-holdings tables"
   ]
  },
  {
   "cell_type": "code",
   "execution_count": 29,
   "metadata": {},
   "outputs": [],
   "source": [
    "# Save results as csv files\n",
    "for date, ch_array in final_ch_networks.items():\n",
    "    \n",
    "    n, d = ch_array.shape\n",
    "    \n",
    "    df = pd.DataFrame(ch_array)\n",
    "    df.columns = orig_tickers[:n]\n",
    "    df.index = orig_tickers[:n]\n",
    "    df.to_csv('./Data/Large_network/Cross_holdings/final_CH_network_{}.csv'.format(date))"
   ]
  },
  {
   "cell_type": "markdown",
   "metadata": {},
   "source": [
    "# Support"
   ]
  },
  {
   "cell_type": "code",
   "execution_count": null,
   "metadata": {},
   "outputs": [],
   "source": [
    "stock_ticker = 'JPM-US'\n",
    "holder_ticker = 'BAC-US'"
   ]
  },
  {
   "cell_type": "code",
   "execution_count": 75,
   "metadata": {},
   "outputs": [],
   "source": [
    "# #%%time\n",
    "\n",
    "# start = time.time()\n",
    "\n",
    "# # Initialize array to store the results\n",
    "# n = len(ticker_name_dict.keys())\n",
    "\n",
    "# n = 20\n",
    "\n",
    "# ch_array = np.zeros((n,n))\n",
    "\n",
    "# for i in range(0,n):\n",
    "#     for j in range(0,n):\n",
    "        \n",
    "#         # Get current tickers\n",
    "#         holder_ticker = tickers[i]\n",
    "#         stock_ticker = tickers[j]\n",
    "        \n",
    "#         # Add score to the array\n",
    "#         ch_array[i,j] = cross_holdings_computer(df, choices, ticker_name_dict, stock_ticker, holder_ticker,\n",
    "#                             match_type,score_cutoff)\n",
    "        \n",
    "# end = time.time()\n",
    "# runtime = round(end-start,2)\n",
    "# print(\"Time elapsed: {} seconds\".format(runtime))"
   ]
  },
  {
   "cell_type": "code",
   "execution_count": 76,
   "metadata": {},
   "outputs": [],
   "source": [
    "df = pd.DataFrame(ch_array)\n",
    "df.columns = orig_tickers[:n]\n",
    "df.index = orig_tickers[:n]\n",
    "\n",
    "\n",
    "df.to_csv('./Data/Large_network/Cross_holdings/final_CH_network_{}.csv'.format(date))"
   ]
  },
  {
   "cell_type": "code",
   "execution_count": 43,
   "metadata": {},
   "outputs": [],
   "source": [
    "choices = df_dict['2020-09-30'].Name #names\n",
    "matches = match.extract(\"Vanguard\", choices, match_type='trigram', score_cutoff=0.3)"
   ]
  },
  {
   "cell_type": "code",
   "execution_count": 44,
   "metadata": {},
   "outputs": [
    {
     "data": {
      "text/plain": [
       "[('The Vanguard Group, Inc.', 0.391304),\n",
       " ('Vanguard Fiduciary Trust Co.', 0.321429),\n",
       " ('Vanguard Global Advisers LLC', 0.310345)]"
      ]
     },
     "execution_count": 44,
     "metadata": {},
     "output_type": "execute_result"
    }
   ],
   "source": [
    "matches"
   ]
  },
  {
   "cell_type": "code",
   "execution_count": 46,
   "metadata": {},
   "outputs": [],
   "source": [
    "match_names = [match[0] for match in matches]\n",
    "np.sum(temp_df[temp_df['Name'].isin(match_names)]['JPM-US'].values)"
   ]
  },
  {
   "cell_type": "code",
   "execution_count": 47,
   "metadata": {},
   "outputs": [],
   "source": [
    "temp_df = df_dict['2020-09-30']"
   ]
  },
  {
   "cell_type": "code",
   "execution_count": 52,
   "metadata": {},
   "outputs": [
    {
     "data": {
      "text/plain": [
       "7.881"
      ]
     },
     "execution_count": 52,
     "metadata": {},
     "output_type": "execute_result"
    }
   ],
   "source": [
    "np.sum(temp_df[temp_df['Name'].isin(match_names)]['JPM-US'].values)"
   ]
  },
  {
   "cell_type": "code",
   "execution_count": 21,
   "metadata": {},
   "outputs": [
    {
     "data": {
      "text/plain": [
       "7.5115"
      ]
     },
     "execution_count": 21,
     "metadata": {},
     "output_type": "execute_result"
    }
   ],
   "source": [
    "float(df_dict['2020-09-30'][df_dict['2020-09-30']['Name']=='The Vanguard Group, Inc.']['JPM-US'])\n",
    "#df[df['Name']==name][stock_ticker]"
   ]
  },
  {
   "cell_type": "code",
   "execution_count": 33,
   "metadata": {},
   "outputs": [
    {
     "data": {
      "text/plain": [
       "94"
      ]
     },
     "execution_count": 33,
     "metadata": {},
     "output_type": "execute_result"
    }
   ],
   "source": [
    "len(ticker_name_dict.keys())"
   ]
  },
  {
   "cell_type": "code",
   "execution_count": null,
   "metadata": {},
   "outputs": [],
   "source": [
    "#cross_holdings_computer(df_dict, ticker_name_dict, stock_ticker, holder_ticker, date, match_type,score_cutoff)"
   ]
  },
  {
   "cell_type": "code",
   "execution_count": 103,
   "metadata": {},
   "outputs": [],
   "source": [
    "#epsilon = np.nextafter(0, 1)\n",
    "\n",
    "#ch_array[ch_array==0] = epsilon"
   ]
  },
  {
   "cell_type": "code",
   "execution_count": 104,
   "metadata": {},
   "outputs": [
    {
     "ename": "NameError",
     "evalue": "name 'final_ch_networks' is not defined",
     "output_type": "error",
     "traceback": [
      "\u001b[0;31m---------------------------------------------------------------------------\u001b[0m",
      "\u001b[0;31mNameError\u001b[0m                                 Traceback (most recent call last)",
      "\u001b[0;32m<ipython-input-104-479a5ea12232>\u001b[0m in \u001b[0;36m<module>\u001b[0;34m\u001b[0m\n\u001b[0;32m----> 1\u001b[0;31m \u001b[0;32mfor\u001b[0m \u001b[0mkey\u001b[0m\u001b[0;34m,\u001b[0m \u001b[0mval\u001b[0m \u001b[0;32min\u001b[0m \u001b[0mfinal_ch_networks\u001b[0m\u001b[0;34m.\u001b[0m\u001b[0mitems\u001b[0m\u001b[0;34m(\u001b[0m\u001b[0;34m)\u001b[0m\u001b[0;34m:\u001b[0m\u001b[0;34m\u001b[0m\u001b[0;34m\u001b[0m\u001b[0m\n\u001b[0m\u001b[1;32m      2\u001b[0m     \u001b[0mplt\u001b[0m\u001b[0;34m.\u001b[0m\u001b[0mimshow\u001b[0m\u001b[0;34m(\u001b[0m\u001b[0mch_array\u001b[0m\u001b[0;34m,\u001b[0m \u001b[0mcmap\u001b[0m\u001b[0;34m=\u001b[0m\u001b[0;34m'viridis'\u001b[0m\u001b[0;34m)\u001b[0m\u001b[0;34m\u001b[0m\u001b[0;34m\u001b[0m\u001b[0m\n\u001b[1;32m      3\u001b[0m     \u001b[0mplt\u001b[0m\u001b[0;34m.\u001b[0m\u001b[0mcolorbar\u001b[0m\u001b[0;34m(\u001b[0m\u001b[0;34m)\u001b[0m\u001b[0;34m\u001b[0m\u001b[0;34m\u001b[0m\u001b[0m\n\u001b[1;32m      4\u001b[0m     \u001b[0mplt\u001b[0m\u001b[0;34m.\u001b[0m\u001b[0mtight_layout\u001b[0m\u001b[0;34m(\u001b[0m\u001b[0;34m)\u001b[0m\u001b[0;34m\u001b[0m\u001b[0;34m\u001b[0m\u001b[0m\n\u001b[1;32m      5\u001b[0m     \u001b[0mplt\u001b[0m\u001b[0;34m.\u001b[0m\u001b[0msavefig\u001b[0m\u001b[0;34m(\u001b[0m\u001b[0;34m)\u001b[0m\u001b[0;34m\u001b[0m\u001b[0;34m\u001b[0m\u001b[0m\n",
      "\u001b[0;31mNameError\u001b[0m: name 'final_ch_networks' is not defined"
     ]
    }
   ],
   "source": [
    "for key, val in final_ch_networks.items():\n",
    "    plt.imshow(ch_array, cmap='viridis')\n",
    "    plt.colorbar()\n",
    "    plt.tight_layout()\n",
    "    plt.savefig()\n",
    "    plt.show()"
   ]
  },
  {
   "cell_type": "code",
   "execution_count": null,
   "metadata": {},
   "outputs": [],
   "source": []
  }
 ],
 "metadata": {
  "kernelspec": {
   "display_name": "Python 3",
   "language": "python",
   "name": "python3"
  },
  "language_info": {
   "codemirror_mode": {
    "name": "ipython",
    "version": 3
   },
   "file_extension": ".py",
   "mimetype": "text/x-python",
   "name": "python",
   "nbconvert_exporter": "python",
   "pygments_lexer": "ipython3",
   "version": "3.7.4"
  },
  "toc": {
   "base_numbering": 1,
   "nav_menu": {},
   "number_sections": true,
   "sideBar": true,
   "skip_h1_title": false,
   "title_cell": "Table of Contents",
   "title_sidebar": "Contents",
   "toc_cell": false,
   "toc_position": {
    "height": "calc(100% - 180px)",
    "left": "10px",
    "top": "150px",
    "width": "383.796875px"
   },
   "toc_section_display": true,
   "toc_window_display": true
  }
 },
 "nbformat": 4,
 "nbformat_minor": 2
}
