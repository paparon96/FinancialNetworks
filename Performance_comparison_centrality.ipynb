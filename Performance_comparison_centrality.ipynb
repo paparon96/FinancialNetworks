{
 "cells": [
  {
   "cell_type": "markdown",
   "metadata": {},
   "source": [
    "# Import packages"
   ]
  },
  {
   "cell_type": "code",
   "execution_count": 1,
   "metadata": {},
   "outputs": [],
   "source": [
    "import pandas as pd\n",
    "import numpy as np\n",
    "import networkx as nx\n",
    "import matplotlib.pyplot as plt"
   ]
  },
  {
   "cell_type": "markdown",
   "metadata": {},
   "source": [
    "# Define own functions"
   ]
  },
  {
   "cell_type": "code",
   "execution_count": 2,
   "metadata": {},
   "outputs": [],
   "source": [
    "def centrality_norm_diff(candidate_dict,true_dict):\n",
    "    \n",
    "    \"\"\"Computes the difference of the centrality scores\n",
    "    given 2 dictionaries\"\"\"\n",
    "    \n",
    "    score = 0\n",
    "    for key, val in candidate_dict.items():\n",
    "        score += np.linalg.norm(val-true_dict[key])\n",
    "        \n",
    "        \n",
    "    return score"
   ]
  },
  {
   "cell_type": "markdown",
   "metadata": {},
   "source": [
    "# Import data"
   ]
  },
  {
   "cell_type": "markdown",
   "metadata": {},
   "source": [
    "## Cross-holdings"
   ]
  },
  {
   "cell_type": "code",
   "execution_count": 3,
   "metadata": {},
   "outputs": [],
   "source": [
    "CH = pd.read_excel('./Data/nasdaq_normalized_cross_holdings.xlsx')\n",
    "CH = np.array(CH)"
   ]
  },
  {
   "cell_type": "code",
   "execution_count": 4,
   "metadata": {},
   "outputs": [
    {
     "data": {
      "text/plain": [
       "(10, 11)"
      ]
     },
     "execution_count": 4,
     "metadata": {},
     "output_type": "execute_result"
    }
   ],
   "source": [
    "CH.shape"
   ]
  },
  {
   "cell_type": "code",
   "execution_count": 5,
   "metadata": {},
   "outputs": [],
   "source": [
    "stock_names = CH[:,0]\n",
    "\n",
    "CH = CH[:,1:]"
   ]
  },
  {
   "cell_type": "code",
   "execution_count": 6,
   "metadata": {},
   "outputs": [],
   "source": [
    "CH = np.asarray(CH,dtype=np.float64)"
   ]
  },
  {
   "cell_type": "code",
   "execution_count": 7,
   "metadata": {},
   "outputs": [],
   "source": [
    "CH = np.round(CH,2)"
   ]
  },
  {
   "cell_type": "markdown",
   "metadata": {},
   "source": [
    "## Neighbourhood-selection"
   ]
  },
  {
   "cell_type": "code",
   "execution_count": 8,
   "metadata": {},
   "outputs": [],
   "source": [
    "NE_estimated_matrix = np.genfromtxt('./Data/Estimated_networks/NE.csv',\n",
    "                              delimiter=',')"
   ]
  },
  {
   "cell_type": "code",
   "execution_count": 9,
   "metadata": {},
   "outputs": [
    {
     "data": {
      "text/plain": [
       "(11, 11)"
      ]
     },
     "execution_count": 9,
     "metadata": {},
     "output_type": "execute_result"
    }
   ],
   "source": [
    "NE_estimated_matrix.shape"
   ]
  },
  {
   "cell_type": "code",
   "execution_count": 10,
   "metadata": {},
   "outputs": [],
   "source": [
    "NE_estimated_matrix = NE_estimated_matrix[1:,1:]"
   ]
  },
  {
   "cell_type": "code",
   "execution_count": 11,
   "metadata": {},
   "outputs": [],
   "source": []
  },
  {
   "cell_type": "markdown",
   "metadata": {},
   "source": [
    "## SPACE"
   ]
  },
  {
   "cell_type": "code",
   "execution_count": 12,
   "metadata": {},
   "outputs": [
    {
     "name": "stdout",
     "output_type": "stream",
     "text": [
      "(11, 11)\n"
     ]
    }
   ],
   "source": [
    "SPACE_estimated_matrix = np.genfromtxt('./Data/Estimated_networks/SPACE.csv',\n",
    "                              delimiter=',')\n",
    "\n",
    "print(SPACE_estimated_matrix.shape)"
   ]
  },
  {
   "cell_type": "code",
   "execution_count": 13,
   "metadata": {},
   "outputs": [],
   "source": [
    "# Preprocess data\n",
    "SPACE_estimated_matrix = SPACE_estimated_matrix[1:,1:]\n",
    "SPACE_estimated_matrix = np.round(SPACE_estimated_matrix,2)"
   ]
  },
  {
   "cell_type": "markdown",
   "metadata": {},
   "source": [
    "## GLASSO"
   ]
  },
  {
   "cell_type": "code",
   "execution_count": 14,
   "metadata": {},
   "outputs": [
    {
     "name": "stdout",
     "output_type": "stream",
     "text": [
      "(11, 11)\n"
     ]
    }
   ],
   "source": [
    "GLASSO_estimated_matrix = np.genfromtxt('./Data/Estimated_networks/GLASSO.csv',\n",
    "                              delimiter=',')\n",
    "\n",
    "print(GLASSO_estimated_matrix.shape)"
   ]
  },
  {
   "cell_type": "code",
   "execution_count": 15,
   "metadata": {},
   "outputs": [],
   "source": [
    "# Preprocess data\n",
    "GLASSO_estimated_matrix = GLASSO_estimated_matrix[1:,1:]\n",
    "GLASSO_estimated_matrix = np.round(GLASSO_estimated_matrix,2)"
   ]
  },
  {
   "cell_type": "markdown",
   "metadata": {},
   "source": [
    "# Transform data to networks"
   ]
  },
  {
   "cell_type": "code",
   "execution_count": 16,
   "metadata": {},
   "outputs": [],
   "source": [
    "CH_G = nx.from_numpy_matrix(CH, create_using=nx.DiGraph)"
   ]
  },
  {
   "cell_type": "code",
   "execution_count": 17,
   "metadata": {},
   "outputs": [],
   "source": [
    "NE_estimated_G = nx.from_numpy_matrix(NE_estimated_matrix, create_using=nx.DiGraph)\n",
    "SPACE_estimated_G = nx.from_numpy_matrix(SPACE_estimated_matrix, create_using=nx.DiGraph)\n",
    "GLASSO_estimated_G = nx.from_numpy_matrix(GLASSO_estimated_matrix, create_using=nx.DiGraph)"
   ]
  },
  {
   "cell_type": "markdown",
   "metadata": {},
   "source": [
    "# Compute centrality measures"
   ]
  },
  {
   "cell_type": "code",
   "execution_count": 18,
   "metadata": {},
   "outputs": [
    {
     "data": {
      "text/plain": [
       "array(['jpm', 'ms', 'bac', 'c', 'wfc', 'gs', 'usb', 'tfc', 'bk', 'td'],\n",
       "      dtype=object)"
      ]
     },
     "execution_count": 18,
     "metadata": {},
     "output_type": "execute_result"
    }
   ],
   "source": [
    "stock_names"
   ]
  },
  {
   "cell_type": "markdown",
   "metadata": {},
   "source": [
    "## Katz-Bonacich centrality"
   ]
  },
  {
   "cell_type": "code",
   "execution_count": 19,
   "metadata": {},
   "outputs": [],
   "source": [
    "CH_katz_bonacich = nx.katz_centrality(CH_G)"
   ]
  },
  {
   "cell_type": "code",
   "execution_count": 21,
   "metadata": {},
   "outputs": [],
   "source": [
    "#CH_katz_bonacich"
   ]
  },
  {
   "cell_type": "code",
   "execution_count": 22,
   "metadata": {},
   "outputs": [],
   "source": [
    "NE_estimated_katz_bonacich = nx.katz_centrality(NE_estimated_G)\n",
    "\n",
    "#NE_estimated_katz_bonacich"
   ]
  },
  {
   "cell_type": "code",
   "execution_count": 23,
   "metadata": {},
   "outputs": [],
   "source": [
    "SPACE_estimated_katz_bonacich = nx.katz_centrality(SPACE_estimated_G)\n",
    "\n",
    "#SPACE_estimated_katz_bonacich"
   ]
  },
  {
   "cell_type": "code",
   "execution_count": 24,
   "metadata": {},
   "outputs": [],
   "source": [
    "GLASSO_estimated_katz_bonacich = nx.katz_centrality(GLASSO_estimated_G)\n",
    "\n",
    "#GLASSO_estimated_katz_bonacich"
   ]
  },
  {
   "cell_type": "markdown",
   "metadata": {},
   "source": [
    "### Comparison"
   ]
  },
  {
   "cell_type": "code",
   "execution_count": 25,
   "metadata": {},
   "outputs": [],
   "source": [
    "NE_katz_bonacich_score = centrality_norm_diff(candidate_dict=NE_estimated_katz_bonacich,\n",
    "                                              true_dict=CH_katz_bonacich)\n",
    "\n",
    "SPACE_katz_bonacich_score = centrality_norm_diff(candidate_dict=SPACE_estimated_katz_bonacich,\n",
    "                                              true_dict=CH_katz_bonacich)\n",
    "\n",
    "GLASSO_katz_bonacich_score = centrality_norm_diff(candidate_dict=GLASSO_estimated_katz_bonacich,\n",
    "                                              true_dict=CH_katz_bonacich)"
   ]
  },
  {
   "cell_type": "code",
   "execution_count": 26,
   "metadata": {},
   "outputs": [
    {
     "name": "stdout",
     "output_type": "stream",
     "text": [
      "0.5729148853680013\n",
      "0.7396015609211217\n",
      "0.6629804452365877\n"
     ]
    }
   ],
   "source": [
    "print(NE_katz_bonacich_score)\n",
    "print(SPACE_katz_bonacich_score)\n",
    "print(GLASSO_katz_bonacich_score)\n"
   ]
  },
  {
   "cell_type": "markdown",
   "metadata": {},
   "source": [
    "# Visualize networks"
   ]
  },
  {
   "cell_type": "code",
   "execution_count": 84,
   "metadata": {},
   "outputs": [],
   "source": [
    "# Relabel nodes\n",
    "mapping = {}\n",
    "for i in range(0,len(stock_names)):\n",
    "    \n",
    "    mapping[i] = stock_names[i]"
   ]
  },
  {
   "cell_type": "code",
   "execution_count": 85,
   "metadata": {},
   "outputs": [],
   "source": [
    "NE_estimated_G = nx.relabel_nodes(NE_estimated_G, mapping)"
   ]
  },
  {
   "cell_type": "code",
   "execution_count": 86,
   "metadata": {
    "scrolled": true
   },
   "outputs": [],
   "source": [
    "degrees = [i[1] for i in list(nx.degree(NE_estimated_G))]"
   ]
  },
  {
   "cell_type": "code",
   "execution_count": 90,
   "metadata": {},
   "outputs": [],
   "source": [
    "# Use spring_layout to handle positioning of graph\n",
    "layout = nx.shell_layout(NE_estimated_G)\n",
    "\n",
    "# Use a list for node_sizes\n",
    "sizes = degrees*5000"
   ]
  },
  {
   "cell_type": "code",
   "execution_count": 92,
   "metadata": {},
   "outputs": [
    {
     "data": {
      "image/png": "[encoded data removed]",
      "text/plain": [
       "<Figure size 432x288 with 1 Axes>"
      ]
     },
     "metadata": {},
     "output_type": "display_data"
    }
   ],
   "source": [
    "# Draw the graph using the layout - with_labels=True if you want node labels.\n",
    "nx.draw(NE_estimated_G, layout, with_labels=True)\n",
    "\n",
    "# Get weights of each edge and assign to labels\n",
    "labels = nx.get_edge_attributes(NE_estimated_G, \"weight\")\n",
    "\n",
    "# Draw edge labels using layout and list of labels\n",
    "nx.draw_networkx_edge_labels(NE_estimated_G, pos=layout, edge_labels=labels)\n",
    "\n",
    "plt.savefig(\"./Figures/NE_method_network_viz.pdf\",dpi=120)\n",
    "# Show plot\n",
    "plt.show()"
   ]
  },
  {
   "cell_type": "code",
   "execution_count": null,
   "metadata": {},
   "outputs": [],
   "source": []
  }
 ],
 "metadata": {
  "kernelspec": {
   "display_name": "Python 3",
   "language": "python",
   "name": "python3"
  },
  "language_info": {
   "codemirror_mode": {
    "name": "ipython",
    "version": 3
   },
   "file_extension": ".py",
   "mimetype": "text/x-python",
   "name": "python",
   "nbconvert_exporter": "python",
   "pygments_lexer": "ipython3",
   "version": "3.7.4"
  },
  "toc": {
   "base_numbering": 1,
   "nav_menu": {},
   "number_sections": true,
   "sideBar": true,
   "skip_h1_title": false,
   "title_cell": "Table of Contents",
   "title_sidebar": "Contents",
   "toc_cell": false,
   "toc_position": {},
   "toc_section_display": true,
   "toc_window_display": true
  }
 },
 "nbformat": 4,
 "nbformat_minor": 2
}
